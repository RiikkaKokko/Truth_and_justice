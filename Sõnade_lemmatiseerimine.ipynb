{
 "cells": [
  {
   "cell_type": "code",
   "execution_count": 1,
   "metadata": {},
   "outputs": [],
   "source": [
    "from pathlib import Path\n",
    "from estnltk import Text"
   ]
  },
  {
   "cell_type": "code",
   "execution_count": 2,
   "metadata": {},
   "outputs": [],
   "source": [
    "book=Path('Data/Books/tõde_ja_õigus1.txt').read_text().lower()\n",
    "#print(book[:100])"
   ]
  },
  {
   "cell_type": "markdown",
   "metadata": {},
   "source": [
    "# Lemma"
   ]
  },
  {
   "cell_type": "code",
   "execution_count": 2,
   "metadata": {},
   "outputs": [],
   "source": [
    "text=Text(Path('Data/Books/tõde_ja_õigus1.txt').read_text().lower())\n",
    "text.analyse('morphology')\n",
    "lemmas=text.lemma"
   ]
  },
  {
   "cell_type": "code",
   "execution_count": 4,
   "metadata": {},
   "outputs": [
    {
     "data": {
      "text/html": [
       "Span(',', [{'normalized_form': None}])"
      ],
      "text/plain": [
       "Span(',', [{'normalized_form': None}])"
      ]
     },
     "execution_count": 4,
     "metadata": {},
     "output_type": "execute_result"
    }
   ],
   "source": [
    "text.words[15]"
   ]
  },
  {
   "cell_type": "code",
   "execution_count": 5,
   "metadata": {},
   "outputs": [
    {
     "data": {
      "text/plain": [
       "{'morph_analysis', 'sentences', 'words'}"
      ]
     },
     "execution_count": 5,
     "metadata": {},
     "output_type": "execute_result"
    }
   ],
   "source": [
    "text.layers"
   ]
  },
  {
   "cell_type": "code",
   "execution_count": 6,
   "metadata": {},
   "outputs": [
    {
     "data": {
      "text/plain": [
       "{'morph_analysis', 'sentences', 'words'}"
      ]
     },
     "execution_count": 6,
     "metadata": {},
     "output_type": "execute_result"
    }
   ],
   "source": [
    "text.layers"
   ]
  },
  {
   "cell_type": "code",
   "execution_count": 7,
   "metadata": {},
   "outputs": [
    {
     "name": "stdout",
     "output_type": "stream",
     "text": [
      "['[']\n"
     ]
    }
   ],
   "source": [
    "print(lemmas[0])"
   ]
  },
  {
   "cell_type": "code",
   "execution_count": 4,
   "metadata": {},
   "outputs": [],
   "source": [
    "list_of_lemmas=list(text.lemma)"
   ]
  },
  {
   "cell_type": "code",
   "execution_count": 9,
   "metadata": {},
   "outputs": [
    {
     "name": "stdout",
     "output_type": "stream",
     "text": [
      "<class 'list'>\n"
     ]
    }
   ],
   "source": [
    "print(type(list_of_lemmas))"
   ]
  },
  {
   "cell_type": "code",
   "execution_count": 10,
   "metadata": {},
   "outputs": [
    {
     "data": {
      "text/plain": [
       "'['"
      ]
     },
     "execution_count": 10,
     "metadata": {},
     "output_type": "execute_result"
    }
   ],
   "source": [
    "list_of_lemmas[0][0]"
   ]
  },
  {
   "cell_type": "code",
   "execution_count": 5,
   "metadata": {},
   "outputs": [],
   "source": [
    "uus_list_of_lemmas=[elem[0] for elem in list_of_lemmas]"
   ]
  },
  {
   "cell_type": "code",
   "execution_count": 6,
   "metadata": {},
   "outputs": [
    {
     "data": {
      "text/plain": [
       "213545"
      ]
     },
     "execution_count": 6,
     "metadata": {},
     "output_type": "execute_result"
    }
   ],
   "source": [
    "len(uus_list_of_lemmas)"
   ]
  },
  {
   "cell_type": "code",
   "execution_count": 7,
   "metadata": {},
   "outputs": [
    {
     "data": {
      "text/plain": [
       "str"
      ]
     },
     "execution_count": 7,
     "metadata": {},
     "output_type": "execute_result"
    }
   ],
   "source": [
    "type(uus_list_of_lemmas[0])"
   ]
  },
  {
   "cell_type": "code",
   "execution_count": 8,
   "metadata": {},
   "outputs": [
    {
     "data": {
      "text/plain": [
       "['[', '’', 'tõde', 'ja', 'õigus', 'i', '\\\\', 'na', '.', 'h']"
      ]
     },
     "execution_count": 8,
     "metadata": {},
     "output_type": "execute_result"
    }
   ],
   "source": [
    "uus_list_of_lemmas[:10]"
   ]
  },
  {
   "cell_type": "code",
   "execution_count": 10,
   "metadata": {},
   "outputs": [
    {
     "data": {
      "text/plain": [
       "2886"
      ]
     },
     "execution_count": 10,
     "metadata": {},
     "output_type": "execute_result"
    }
   ],
   "source": [
    "uus_list_of_lemmas.index('andre')"
   ]
  },
  {
   "cell_type": "code",
   "execution_count": 11,
   "metadata": {},
   "outputs": [
    {
     "data": {
      "text/html": [
       "Span('andres', [{'normalized_form': None}])"
      ],
      "text/plain": [
       "Span('andres', [{'normalized_form': None}])"
      ]
     },
     "execution_count": 11,
     "metadata": {},
     "output_type": "execute_result"
    }
   ],
   "source": [
    "text.words[2886]"
   ]
  },
  {
   "cell_type": "code",
   "execution_count": 13,
   "metadata": {},
   "outputs": [
    {
     "data": {
      "text/plain": [
       "['andre']"
      ]
     },
     "execution_count": 13,
     "metadata": {},
     "output_type": "execute_result"
    }
   ],
   "source": [
    "text.lemma[2886]"
   ]
  },
  {
   "cell_type": "code",
   "execution_count": 9,
   "metadata": {},
   "outputs": [
    {
     "data": {
      "text/plain": [
       "estnltk.layer.immutable_list.ImmutableList"
      ]
     },
     "execution_count": 9,
     "metadata": {},
     "output_type": "execute_result"
    }
   ],
   "source": [
    "type(list_of_lemmas[0])"
   ]
  },
  {
   "cell_type": "code",
   "execution_count": 16,
   "metadata": {},
   "outputs": [],
   "source": [
    "#text.lemma"
   ]
  },
  {
   "cell_type": "code",
   "execution_count": 17,
   "metadata": {},
   "outputs": [],
   "source": [
    "with open(\"file.txt\", \"w\") as output:\n",
    "    output.write(' '.join(uus_list_of_lemmas))"
   ]
  },
  {
   "cell_type": "code",
   "execution_count": 18,
   "metadata": {},
   "outputs": [],
   "source": [
    "import matplotlib.pyplot as plt\n",
    "from wordcloud import WordCloud, STOPWORDS\n",
    "import numpy as npy\n",
    "from PIL import Image\n",
    "dataset = open(\"file.txt\", \"r\").read()\n",
    "stopwords=Path('Data/Estonian_Stopwords.txt').read_text().split('\\n')\n",
    "def create_word_cloud(string):\n",
    "    maskArray = npy.array(Image.open(\"Data/Wordclouds/estonian_flag.jpg\"))\n",
    "    cloud = WordCloud(background_color = \"white\", max_words = 200, mask = maskArray, stopwords = stopwords)\n",
    "    cloud.generate(string)\n",
    "    plt.show()\n",
    "    cloud.to_file(\"wordCloud_lemma.png\")\n",
    "dataset = dataset.lower()\n",
    "create_word_cloud(dataset)"
   ]
  },
  {
   "cell_type": "code",
   "execution_count": 65,
   "metadata": {},
   "outputs": [
    {
     "data": {
      "text/plain": [
       "6945"
      ]
     },
     "execution_count": 65,
     "metadata": {},
     "output_type": "execute_result"
    }
   ],
   "source": [
    "uus_list_of_lemmas.index(\"kuida\")\n",
    "#uus_list_of_lemmas.index(\"tahtma\")"
   ]
  },
  {
   "cell_type": "code",
   "execution_count": 77,
   "metadata": {},
   "outputs": [
    {
     "data": {
      "text/plain": [
       "2886"
      ]
     },
     "execution_count": 77,
     "metadata": {},
     "output_type": "execute_result"
    }
   ],
   "source": [
    "uus_list_of_lemmas.index(\"andre\")"
   ]
  },
  {
   "cell_type": "code",
   "execution_count": 78,
   "metadata": {},
   "outputs": [
    {
     "data": {
      "text/plain": [
       "'andre'"
      ]
     },
     "execution_count": 78,
     "metadata": {},
     "output_type": "execute_result"
    }
   ],
   "source": [
    "uus_list_of_lemmas[2886]"
   ]
  },
  {
   "cell_type": "code",
   "execution_count": 63,
   "metadata": {},
   "outputs": [],
   "source": [
    "uus_list_of_lemmas_cleaner=[w for w in uus_list_of_lemmas if len(w)>3]\n",
    "tekst=str(' '.join(uus_list_of_lemmas_cleaner))"
   ]
  },
  {
   "cell_type": "code",
   "execution_count": 64,
   "metadata": {},
   "outputs": [
    {
     "data": {
      "text/plain": [
       "True"
      ]
     },
     "execution_count": 64,
     "metadata": {},
     "output_type": "execute_result"
    }
   ],
   "source": [
    "' andre ' in tekst"
   ]
  },
  {
   "cell_type": "code",
   "execution_count": 70,
   "metadata": {},
   "outputs": [],
   "source": [
    "tekst=tekst.replace(' andre ', ' andres ')\n",
    "tekst=tekst.replace('\\\\','')"
   ]
  },
  {
   "cell_type": "code",
   "execution_count": 71,
   "metadata": {},
   "outputs": [
    {
     "data": {
      "text/plain": [
       "1640"
      ]
     },
     "execution_count": 71,
     "metadata": {},
     "output_type": "execute_result"
    }
   ],
   "source": [
    "temp_list=tekst.split()\n",
    "temp_list.index('andres')"
   ]
  },
  {
   "cell_type": "code",
   "execution_count": 67,
   "metadata": {},
   "outputs": [
    {
     "data": {
      "text/plain": [
       "False"
      ]
     },
     "execution_count": 67,
     "metadata": {},
     "output_type": "execute_result"
    }
   ],
   "source": [
    "' andre ' in tekst"
   ]
  },
  {
   "cell_type": "code",
   "execution_count": 68,
   "metadata": {},
   "outputs": [],
   "source": [
    "import matplotlib.pyplot as plt\n",
    "from wordcloud import WordCloud, STOPWORDS\n",
    "import numpy as np\n",
    "from PIL import Image\n",
    "from wordcloud import ImageColorGenerator\n",
    "stopwords=Path('Data/Estonian_Stopwords.txt').read_text().split('\\n')\n",
    "def create_word_cloud(string):\n",
    "    maskArray = np.array(Image.open(\"Data/Wordclouds/estonian_flag.jpg\"))\n",
    "    mask_colors= ImageColorGenerator(maskArray)\n",
    "    cloud = WordCloud(background_color = \"white\", max_words = 2000, max_font_size=256, \n",
    "                      random_state=15, mask = maskArray, stopwords = stopwords, color_func=mask_colors)\n",
    "    cloud.generate(string)\n",
    "    plt.show()\n",
    "    cloud.to_file(\"wordCloud_lemma1.png\")\n",
    "create_word_cloud(tekst)"
   ]
  },
  {
   "cell_type": "code",
   "execution_count": 72,
   "metadata": {},
   "outputs": [
    {
     "data": {
      "text/plain": [
       "'tõde õigus tammsaar olema läinud aastasada kolmas veerand lõpp päike lähenema silmapiir seisma sedavõrd madal enam ulatuma valgustama mägi roniv hobune puutelg vanker vedama vanker istuma noor naine ligi kolmekümneline mees kõndima vanker kõrval varsti jõudma teeline mäerinnak kõrgele päike helendama looma mees nägu laiavõitu tugev lõuapära terassilm lühike kuid tihe must habe naine nukker silm look hobune kikkis kõrv pidama seal tema olema vargamägi lausuma mees näitama käsi järgmine väljamägi poole lömitama rühm madal hoone mina hoone paistma teine seisma mägi taga siis rahvas mägi mõisakiri eespere tagapere parem käsi männitukk seal kõrgel mägi otsas olema mina igavene vana jändrik teine mõni poolkuiv juba palju tegema mees jutt siis logisema vanker endiselt tumm vaikus naine silmitsema ümbrus siin mägi seal mägi kaugemal kolmas pahem käsi neli parem viies taga kuues seitsmes ning veel rohkem mägi põld hoone mägi ümber vahel aina tükati raba kaema kidur võserik niisugune mäenukk tema ümbritsev mõni männijändrik mägi kõrgem tipp saama tema sõitev naine kodu seal pidama tema vististi päev lõpma millegipärast kiskuma noor naine süda valusasti rind kokku valu ulatuma nagu madalamale tabama kogu elund kava olema nagu naba ümber pundar kunagi olema tema osanud arvama tema võima kord niisugune kodu olema tänini olema tema kodu mõistma ikka põld mets suur laas õhtuti helisema huikama ajama pasun helisema siin tulema lust lõõritama hüüdma siis vastu hakkama raba rõkkama naine vaatama mees hobune kõrval kõndima vaatama hobune tema isakodu olema nägema sündiv kasvav mõlema tõttama täis samm nagu ootama äkki tulema tema meel kuidas kodu olema peetuma pidama tema praegune mees kosi vastu võtma tagasi lükkama kõik vanem vend olema otsustama mees võima minema tema jaksama oskama naine toitma imelik olema kord tunduma rääkima tema toitmine siis tema oskama tegema toitma nagu teine terve ihuliige inimene uuesti vaatama kähku mees hobu kõrvuti kodu poole astuma muutuma tema meel rahulikum süda julgem peaasi mära tema majapidamine peatugi põhivara nagu hobune kaasavara andma olema öelnud peaasi tema tõttavalt astuma andma noor naine lootus astuma astuma sundima mees hobune nagu aimama tema naine mõte saama päevaveer kodu jõudma kahtlema naine tema olema mõelnud kuidagi sõna kodu tarvitama sõna jääma kurk kinni lausk väljamägi olema pisut siledam sellepärast kargama mees naine kõrvale vanker kahmama pingutavalt pihk ajama hobune sörkima millegipärast valdama hobune äkki mingisugune rõõmuhelk tema hirnatama tundma kodu lähedus arvama mees nojah tema käima juba mitu-setu kord lausuma naine olema nagu valus hobune võõras paik juba kodu tundma hobune rõõmuhirnatus kustuma nagu tükk naine senine natuke pahem käsi kõrval asuv talu seisma üksik naine vaatama möödasõitja ämber käsi otsas vargamägi eespere noor perenaine näima seisja tuttav nagu olema tema tema juba ammugi sagedasti nägema veel enam nagu olema tema kustuv päike helk nõnda kuskil taluõu seisma möödamineja vaadelnud nagu tegema tema tulevik veel lugematu kord talu nimi olema küsima naine olema aaseme vastama mees selg taha parem käsi jääma võllas veel kaugemale mägi vari paistma väljamägi nimetama metsakant siin olema kolm koht vanker logisema hobu sörk peagi põld jällegi pidama tema minema pidama ronima teine seega viimane enne minema aaseme välja kaks hobune pöörduma ilma juhatus parem käsi kuhu teine viima küsima naine sooväli vastama mees seia paistma mina küll kodu saama siis nägema seal olema kolm talu veel kaks saun jõudma mõlema pool ummistuma kraav sisemus turvama olema keskele kokku kuhjama põhi hagu rida puupakk kõikuv pind siin-seal tungima loom jalg läbi mäda aluspõhi pehme muda tunduma mingi pide kõrval teine pool kraav vaevakane vaevapaju raagus põõsas harva mõni latv sookask pung pakatama kaugemal välja ääres randemaal kippuma ilutsema juba värske kevadine rohelus soon valuvalt kollane varsakabi siia võima uppuma hüüdma naine nägema kuidas hobune läbipääsematu vaev edasi ronima murdma vanker hobune jalg küllap pidama vastu ütlema mees jällegi maas kõndima nüüd käes hoidma hobune paremini juhtima sest tema juba tundma istuma kõvasti peal istuma keskpaik muidu viskama maha õpetama tema naine tema kõige suurem häda juba väljas rääkima tema lohutavalt nõnda igavesti jääma kraav tegema sügavam tegema kõrgem siledam põhi kuuseoks kadakas peale põllukivi sauerähk olema mina küll väljamägi mänd võtma niipalju süda kutsuma mõni aasta pärast sõitma tõld kaks hoog kõrv vanker läbi saama arvama naine jõudma välja äärde väli äärde jällegi viima mööda rinnak üles päiksetera olema kaduma ütlema naine tema jõudma mägi kust avanema silmapiir veerema enne kodu saama vastama mees kodu olema peremees perenaine mari tarvis muidu olema pidama minema mujalt otsima karjane tulema parajasti nutma kodu vana maasik jääma lepik alla sisse inisema sikutama koib edasi saama sees sees jääma igaveseks sinna inimene aitama noor perenaine algus taipama lehm õige olema tema kodu saama t'"
      ]
     },
     "execution_count": 72,
     "metadata": {},
     "output_type": "execute_result"
    }
   ],
   "source": [
    "tekst[:5000]"
   ]
  },
  {
   "cell_type": "code",
   "execution_count": 61,
   "metadata": {},
   "outputs": [
    {
     "data": {
      "text/plain": [
       "12133"
      ]
     },
     "execution_count": 61,
     "metadata": {},
     "output_type": "execute_result"
    }
   ],
   "source": [
    "tekst.find(' andres ')"
   ]
  },
  {
   "cell_type": "code",
   "execution_count": 51,
   "metadata": {},
   "outputs": [
    {
     "data": {
      "text/plain": [
       "-1"
      ]
     },
     "execution_count": 51,
     "metadata": {},
     "output_type": "execute_result"
    }
   ],
   "source": [
    "tekst.find(' andre ')"
   ]
  },
  {
   "cell_type": "code",
   "execution_count": 52,
   "metadata": {},
   "outputs": [
    {
     "data": {
      "text/plain": [
       "' andreeeeeees oma noor naine , kes püha ristimine olema nimi pandud kr'"
      ]
     },
     "execution_count": 52,
     "metadata": {},
     "output_type": "execute_result"
    }
   ],
   "source": [
    "tekst[14220:14290]"
   ]
  },
  {
   "cell_type": "code",
   "execution_count": 41,
   "metadata": {},
   "outputs": [],
   "source": [
    "suvakas=\"andres andres andres krõõt krõõt pearu pearu poiss poiss tere tore talve\""
   ]
  },
  {
   "cell_type": "code",
   "execution_count": 73,
   "metadata": {},
   "outputs": [
    {
     "data": {
      "image/png": "[encoded data removed]",
      "text/plain": [
       "<Figure size 432x288 with 1 Axes>"
      ]
     },
     "metadata": {
      "needs_background": "light"
     },
     "output_type": "display_data"
    }
   ],
   "source": [
    "cloud = WordCloud(stopwords = stopwords).generate(tekst)\n",
    "plt.figure()\n",
    "plt.imshow(cloud)\n",
    "plt.axis(\"off\")\n",
    "plt.show()"
   ]
  },
  {
   "cell_type": "code",
   "execution_count": null,
   "metadata": {},
   "outputs": [],
   "source": []
  }
 ],
 "metadata": {
  "kernelspec": {
   "display_name": "Python 3",
   "language": "python",
   "name": "python3"
  },
  "language_info": {
   "codemirror_mode": {
    "name": "ipython",
    "version": 3
   },
   "file_extension": ".py",
   "mimetype": "text/x-python",
   "name": "python",
   "nbconvert_exporter": "python",
   "pygments_lexer": "ipython3",
   "version": "3.6.8"
  }
 },
 "nbformat": 4,
 "nbformat_minor": 2
}
