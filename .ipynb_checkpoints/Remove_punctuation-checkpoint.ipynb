{
 "cells": [
  {
   "cell_type": "code",
   "execution_count": 1,
   "metadata": {},
   "outputs": [],
   "source": [
    "removable_marks='''!()-[]{};:'\"\\,<>./?@#$%^&*_~'''"
   ]
  },
  {
   "cell_type": "code",
   "execution_count": 3,
   "metadata": {},
   "outputs": [
    {
     "name": "stdout",
     "output_type": "stream",
     "text": [
      "['tõde_ja_õigus1.txt', 'tõde_ja_õigus5.txt', 'tõde_ja_õigus2.txt', 'tõde_ja_õigus3.txt', 'tõde_ja_õigus4.txt']\n"
     ]
    }
   ],
   "source": [
    "import os\n",
    "\n",
    "books=[]\n",
    "for filename in os.listdir('Data/Books/'):\n",
    "    if filename.startswith(\"tõde_ja_õigus\"):\n",
    "        books.append(filename)\n",
    "print(books)"
   ]
  },
  {
   "cell_type": "code",
   "execution_count": 12,
   "metadata": {},
   "outputs": [
    {
     "name": "stdout",
     "output_type": "stream",
     "text": [
      "tõde ja õigus ina h tammsaaren n n see oli läinud aastasaja kolmanda veerandi lõpul päike lähenes si\n",
      "tõde ja õigus vn n n n kui üksik rändur kandam kaksiti õlal — pikad kummsaapad ripakil ees ja pamp s\n",
      "tõde ja õigus iin n n n esimest korda elus indrek tundis end tõesti üksikuna mahajäetuna ja nagu maa\n",
      "tõde ja õigus iiin n n n soe ja sume pilvealune juulikuu hommik öösi oli sadanud tublisti vihma ja n\n",
      "tõde ja õigus ivn n n n „nüüd ma usun et jumal elab alles“ ütles karin peaaegu südamepõhjast tormate\n"
     ]
    }
   ],
   "source": [
    "from pathlib import Path\n",
    "for book in books:\n",
    "    file=(Path('Data/Books')/book).read_text().lower()\n",
    "    #print(file[:100])\n",
    "    no_punct=\"\"\n",
    "    for char in file:\n",
    "        if char not in removable_marks:\n",
    "            no_punct = no_punct + char\n",
    "    print(no_punct[:100])\n",
    "    \n",
    "    "
   ]
  },
  {
   "cell_type": "code",
   "execution_count": null,
   "metadata": {},
   "outputs": [],
   "source": []
  }
 ],
 "metadata": {
  "kernelspec": {
   "display_name": "Python 3",
   "language": "python",
   "name": "python3"
  },
  "language_info": {
   "codemirror_mode": {
    "name": "ipython",
    "version": 3
   },
   "file_extension": ".py",
   "mimetype": "text/x-python",
   "name": "python",
   "nbconvert_exporter": "python",
   "pygments_lexer": "ipython3",
   "version": "3.6.8"
  }
 },
 "nbformat": 4,
 "nbformat_minor": 2
}
