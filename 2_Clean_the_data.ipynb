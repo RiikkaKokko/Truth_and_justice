{
 "cells": [
  {
   "cell_type": "code",
   "execution_count": 1,
   "metadata": {},
   "outputs": [],
   "source": [
    "import os\n",
    "from estnltk import Text\n",
    "from pathlib import Path"
   ]
  },
  {
   "cell_type": "markdown",
   "metadata": {},
   "source": [
    "# Go through the data"
   ]
  },
  {
   "cell_type": "code",
   "execution_count": 2,
   "metadata": {},
   "outputs": [
    {
     "name": "stdout",
     "output_type": "stream",
     "text": [
      "['tõde_ja_õigus1_original.txt', 'tõde_ja_õigus3_original.txt', 'tõde_ja_õigus5_original.txt', 'tõde_ja_õigus4_original.txt', 'tõde_ja_õigus2_original.txt']\n"
     ]
    }
   ],
   "source": [
    "books=[]\n",
    "for filename in os.listdir('Data/Books/'):\n",
    "    if filename.startswith(\"tõde_ja_õigus\"):\n",
    "        books.append(filename)\n",
    "print(books)"
   ]
  },
  {
   "cell_type": "code",
   "execution_count": 3,
   "metadata": {},
   "outputs": [
    {
     "name": "stdout",
     "output_type": "stream",
     "text": [
      "['tõde ja õigus i\\na. h. tammsaare\\n', '\\n', '\\n', 'see oli läinud aastasaja kolmanda veerandi lõpul. päike lähenes silmapiirile, seistes sedavõrd madalas, et enam ei ulatunud valgustama ei mäkke ronivat hobust, kes puutelgedega vankrit vedas, ei vankril istuvat noort naist ega ka ligi kolmekümnelist meest, kes kõndis vankri kõrval.\\n', 'varsti jõudsid teelised mäerinnakul nii kõrgele, et päikeses helendama lõid mehe nägu – laiavõitu, tugevate lõuapäradega, terassilmadega, lühikese, kuid tiheda \n",
      "['tõde ja õigus iii\\n', '\\n', '\\n', '\\n', 'soe ja sume pilvealune juulikuu hommik. öösi oli sadanud tublisti vihma ja nüüd suikus ilm nagu mõttes, kas uuesti sadama hakata või päike lahti teha. ajuti viskas kusagil tänavanurgal tuuleõhku nagu leitsakut näkku, kuid see vaibus juba järgmisel silmapilgul, olles aurust ja agulihaisudest liig raske kaugemale kandumiseks. aga ülal pidi olema tuult, sest vabrikukorstnate pursatud suitsujoad sirutusid peletisliku eluka kahmavate kätena või ähvardavalt h\n",
      "['tõde ja õigus v\\n', '\\n', '\\n', '\\n', 'kui üksik rändur, kandam kaksiti õlal — pikad kummsaapad ripakil ees ja pamp seljas —, jõudis vargamäe maile, lähenes kuu juba silmaringile, muutudes ise aina punasemaks ja punasemaks, nagu võtaks ta oma taevasel teekonnal pikkamisi tuld. vargamäe välja alt vaadates ta kumas ainult pisut veel üle mäe ja selles kumas meie rändur astuski mööda väljamäge üles, hoidudes teest paremale ja minnes huupi mööda kõrrepõldu, kus mustendasid siin-seal viljaaunad.\\n',\n",
      "['tõde ja õigus iv\\n', '\\n', '\\n', '\\n', '„nüüd ma usun, et jumal elab alles,“ ütles karin peaaegu südamepõhjast, tormates oma mehe töötuppa, kus laskus üliriietes tiivanile. isegi kalossid ta oli esisest läbi rutates jalga unustanud, selline tuli oli tal taga oma tõetundega.\\n', '„ära sega praegu,“ lausus indrek vaikselt, ilma et oleks pööranud või kergitanudki oma pead töölaualt.\\n', '„sa oled möhmus,“ hüüdis naine pahaselt. „surud nina raamatusse ja ei tea mitte midagi, mis ilmas sünnib.“\\n',\n",
      "['tõde ja õigus ii\\n', '\\n', '\\n', '\\n', 'esimest korda elus indrek tundis end tõesti üksikuna, mahajäetuna ja nagu maailmast eraldatuna, niipea kui vagunirattad hakkasid põrisema, tagudes mingisugust tundmatut takti.\\n', 'kogu minevik tõmbus millegi pärast vargamäele kägarasse kokku ja muutus nagu unenäoks, muinasjutuks, peaaegu olematuks. mis olnud, tundus kõik tähtsusetuna; mis tulemas, nii tähtsana ja suurena, et tal puudus alles peaaegu igasugune sisu.\\n', 'ta oli endalegi võõras selles võõ\n"
     ]
    }
   ],
   "source": [
    "for book in books:\n",
    "    text=(Path('Data/Books')/book).read_text().lower()\n",
    "    print(text[:500])"
   ]
  },
  {
   "cell_type": "markdown",
   "metadata": {},
   "source": [
    "# Remove \"\\n\""
   ]
  },
  {
   "cell_type": "code",
   "execution_count": 4,
   "metadata": {},
   "outputs": [
    {
     "name": "stdout",
     "output_type": "stream",
     "text": [
      "['tõde ja õigus ia. h. tammsaare', '', '', 'see oli läinud aastasaja kolmanda veerandi lõpul. päike lähenes silmapiirile, seistes sedavõrd madalas, et enam ei ulatunud valgustama ei mäkke ronivat hobust, kes puutelgedega vankrit vedas, ei vankril istuvat noort naist ega ka ligi kolmekümnelist meest, kes kõndis vankri kõrval.', 'varsti jõudsid teelised mäerinnakul nii kõrgele, et päikeses helendama lõid mehe nägu – laiavõitu, tugevate lõuapäradega, terassilmadega, lühikese, kuid tiheda musta habe\n",
      "['tõde ja õigus iii', '', '', '', 'soe ja sume pilvealune juulikuu hommik. öösi oli sadanud tublisti vihma ja nüüd suikus ilm nagu mõttes, kas uuesti sadama hakata või päike lahti teha. ajuti viskas kusagil tänavanurgal tuuleõhku nagu leitsakut näkku, kuid see vaibus juba järgmisel silmapilgul, olles aurust ja agulihaisudest liig raske kaugemale kandumiseks. aga ülal pidi olema tuult, sest vabrikukorstnate pursatud suitsujoad sirutusid peletisliku eluka kahmavate kätena või ähvardavalt heidetud \n",
      "['tõde ja õigus v', '', '', '', 'kui üksik rändur, kandam kaksiti õlal — pikad kummsaapad ripakil ees ja pamp seljas —, jõudis vargamäe maile, lähenes kuu juba silmaringile, muutudes ise aina punasemaks ja punasemaks, nagu võtaks ta oma taevasel teekonnal pikkamisi tuld. vargamäe välja alt vaadates ta kumas ainult pisut veel üle mäe ja selles kumas meie rändur astuski mööda väljamäge üles, hoidudes teest paremale ja minnes huupi mööda kõrrepõldu, kus mustendasid siin-seal viljaaunad.', 'rändur l\n",
      "['tõde ja õigus iv', '', '', '', '„nüüd ma usun, et jumal elab alles,“ ütles karin peaaegu südamepõhjast, tormates oma mehe töötuppa, kus laskus üliriietes tiivanile. isegi kalossid ta oli esisest läbi rutates jalga unustanud, selline tuli oli tal taga oma tõetundega.', '„ära sega praegu,“ lausus indrek vaikselt, ilma et oleks pööranud või kergitanudki oma pead töölaualt.', '„sa oled möhmus,“ hüüdis naine pahaselt. „surud nina raamatusse ja ei tea mitte midagi, mis ilmas sünnib.“', '„ma ju palus\n",
      "['tõde ja õigus ii', '', '', '', 'esimest korda elus indrek tundis end tõesti üksikuna, mahajäetuna ja nagu maailmast eraldatuna, niipea kui vagunirattad hakkasid põrisema, tagudes mingisugust tundmatut takti.', 'kogu minevik tõmbus millegi pärast vargamäele kägarasse kokku ja muutus nagu unenäoks, muinasjutuks, peaaegu olematuks. mis olnud, tundus kõik tähtsusetuna; mis tulemas, nii tähtsana ja suurena, et tal puudus alles peaaegu igasugune sisu.', 'ta oli endalegi võõras selles võõras ümbruses\n"
     ]
    }
   ],
   "source": [
    "for book in books:\n",
    "    text=(Path('Data/Books')/book).read_text().lower()\n",
    "    text=text.replace(\"\\\\n\", \"\")\n",
    "    print(text[:500])"
   ]
  },
  {
   "cell_type": "markdown",
   "metadata": {},
   "source": [
    "# Remove the punctuation"
   ]
  },
  {
   "cell_type": "code",
   "execution_count": 5,
   "metadata": {},
   "outputs": [],
   "source": [
    "removable_marks='''!()-[]{};:'\"\\,<>./?@#$%^&*_~'''"
   ]
  },
  {
   "cell_type": "code",
   "execution_count": 6,
   "metadata": {},
   "outputs": [
    {
     "name": "stdout",
     "output_type": "stream",
     "text": [
      "tõde ja õigus ina h tammsaaren n n see oli läinud aastasaja kolmanda veerandi lõpul päike lähenes si\n",
      "tõde ja õigus iiin n n n soe ja sume pilvealune juulikuu hommik öösi oli sadanud tublisti vihma ja n\n",
      "tõde ja õigus vn n n n kui üksik rändur kandam kaksiti õlal — pikad kummsaapad ripakil ees ja pamp s\n",
      "tõde ja õigus ivn n n n „nüüd ma usun et jumal elab alles“ ütles karin peaaegu südamepõhjast tormate\n",
      "tõde ja õigus iin n n n esimest korda elus indrek tundis end tõesti üksikuna mahajäetuna ja nagu maa\n"
     ]
    }
   ],
   "source": [
    "for book in books:\n",
    "    file=(Path('Data/Books')/book).read_text().lower()\n",
    "    #print(file[:100])\n",
    "    no_punct=\"\"\n",
    "    for char in file:\n",
    "        if char not in removable_marks:\n",
    "            no_punct = no_punct + char\n",
    "    print(no_punct[:100])"
   ]
  },
  {
   "cell_type": "markdown",
   "metadata": {},
   "source": [
    "# Remove \"\\n\" and punctuation"
   ]
  },
  {
   "cell_type": "code",
   "execution_count": 10,
   "metadata": {},
   "outputs": [
    {
     "name": "stdout",
     "output_type": "stream",
     "text": [
      "tõde ja õigus ia h tammsaare   see oli läinud aastasaja kolmanda veerandi lõpul päike lähenes silmapiirile seistes sedavõrd madalas et enam ei ulatunud valgustama ei mäkke ronivat hobust kes puutelgedega vankrit vedas ei vankril istuvat noort naist ega ka ligi kolmekümnelist meest kes kõndis vankri kõrval varsti jõudsid teelised mäerinnakul nii kõrgele et päikeses helendama lõid mehe nägu – laiavõitu tugevate lõuapäradega terassilmadega lühikese kuid tiheda musta habemega – naise nukrad silmad l\n",
      "tõde ja õigus iii    soe ja sume pilvealune juulikuu hommik öösi oli sadanud tublisti vihma ja nüüd suikus ilm nagu mõttes kas uuesti sadama hakata või päike lahti teha ajuti viskas kusagil tänavanurgal tuuleõhku nagu leitsakut näkku kuid see vaibus juba järgmisel silmapilgul olles aurust ja agulihaisudest liig raske kaugemale kandumiseks aga ülal pidi olema tuult sest vabrikukorstnate pursatud suitsujoad sirutusid peletisliku eluka kahmavate kätena või ähvardavalt heidetud mustade lingudena üle\n",
      "tõde ja õigus v    kui üksik rändur kandam kaksiti õlal — pikad kummsaapad ripakil ees ja pamp seljas — jõudis vargamäe maile lähenes kuu juba silmaringile muutudes ise aina punasemaks ja punasemaks nagu võtaks ta oma taevasel teekonnal pikkamisi tuld vargamäe välja alt vaadates ta kumas ainult pisut veel üle mäe ja selles kumas meie rändur astuski mööda väljamäge üles hoidudes teest paremale ja minnes huupi mööda kõrrepõldu kus mustendasid siinseal viljaaunad rändur läks viljaaunade vahelt läbi\n",
      "tõde ja õigus iv    nüüd ma usun et jumal elab alles ütles karin peaaegu südamepõhjast tormates oma mehe töötuppa kus laskus üliriietes tiivanile isegi kalossid ta oli esisest läbi rutates jalga unustanud selline tuli oli tal taga oma tõetundega ära sega praegu lausus indrek vaikselt ilma et oleks pööranud või kergitanudki oma pead töölaualt sa oled möhmus hüüdis naine pahaselt surud nina raamatusse ja ei tea mitte midagi mis ilmas sünnib ma ju palusin sind juba kord et sa praegu ei segaks ütles\n",
      "tõde ja õigus ii    esimest korda elus indrek tundis end tõesti üksikuna mahajäetuna ja nagu maailmast eraldatuna niipea kui vagunirattad hakkasid põrisema tagudes mingisugust tundmatut takti kogu minevik tõmbus millegi pärast vargamäele kägarasse kokku ja muutus nagu unenäoks muinasjutuks peaaegu olematuks mis olnud tundus kõik tähtsusetuna mis tulemas nii tähtsana ja suurena et tal puudus alles peaaegu igasugune sisu ta oli endalegi võõras selles võõras ümbruses võhivõõrad inimesed kiilusid ta\n"
     ]
    }
   ],
   "source": [
    "removable_marks='''!()-[]{};:'\"\\,<>./?@#$%^&*_~„“'''\n",
    "count=0\n",
    "for book in books:\n",
    "    count+=1\n",
    "    text=(Path('Data/Books')/book).read_text().lower()\n",
    "    text=text.replace(\"\\\\n\", \"\")\n",
    "    #print(text[:500])\n",
    "    no_punct=\"\"\n",
    "    for char in text:\n",
    "        if char not in removable_marks:\n",
    "            no_punct = no_punct + char\n",
    "    print(no_punct[:500])\n",
    "    filename='tõde_ja_õigus_wo_punctuation' + str(count) +'.txt'\n",
    "    save_book=open(Path('Data/Books')/filename, \"w\")\n",
    "    save_book.write(str(no_punct))\n",
    "    save_book.close()  "
   ]
  },
  {
   "cell_type": "code",
   "execution_count": null,
   "metadata": {},
   "outputs": [],
   "source": []
  },
  {
   "cell_type": "code",
   "execution_count": null,
   "metadata": {},
   "outputs": [],
   "source": []
  }
 ],
 "metadata": {
  "kernelspec": {
   "display_name": "Python 3",
   "language": "python",
   "name": "python3"
  },
  "language_info": {
   "codemirror_mode": {
    "name": "ipython",
    "version": 3
   },
   "file_extension": ".py",
   "mimetype": "text/x-python",
   "name": "python",
   "nbconvert_exporter": "python",
   "pygments_lexer": "ipython3",
   "version": "3.6.8"
  }
 },
 "nbformat": 4,
 "nbformat_minor": 2
}
